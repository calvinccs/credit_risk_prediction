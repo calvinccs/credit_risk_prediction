{
 "cells": [
  {
   "cell_type": "code",
   "execution_count": 1,
   "metadata": {},
   "outputs": [
    {
     "data": {
      "text/html": [
       "<style> .container {width:96% !important;}</style>"
      ],
      "text/plain": [
       "<IPython.core.display.HTML object>"
      ]
     },
     "metadata": {},
     "output_type": "display_data"
    }
   ],
   "source": [
    "from IPython.core.display import display, HTML\n",
    "display(HTML(\"\"\"<style> .container {width:96% !important;}</style>\"\"\"))\n",
    "\n",
    "from IPython.display import IFrame"
   ]
  },
  {
   "cell_type": "code",
   "execution_count": 2,
   "metadata": {},
   "outputs": [],
   "source": [
    "import pandas as pd\n",
    "import numpy as np\n",
    "# from plotly.offline import init_notebook_mode, iplot\n",
    "# import cufflinks as cf\n",
    "# init_notebook_mode()\n",
    "# cf.go_offline()\n",
    "from __future__ import division"
   ]
  },
  {
   "cell_type": "code",
   "execution_count": 3,
   "metadata": {},
   "outputs": [],
   "source": [
    "import sys\n",
    "sys.path.insert(0,'../')\n",
    "from utils.paths import *"
   ]
  },
  {
   "cell_type": "markdown",
   "metadata": {},
   "source": [
    "![](asset/role of SBA.png)"
   ]
  },
  {
   "cell_type": "markdown",
   "metadata": {},
   "source": [
    "# Business case\n",
    "\n",
    "SBA acts much like an insurance provider to reduce the risk for a bank by taking on some of the risk through guaranteeing a portion of the loan. \n",
    "\n",
    "* What is the risk level of SBA?\n",
    "* What is the overall loss ratio of SBA?\n",
    "* Can we improve it using machine learning?"
   ]
  },
  {
   "cell_type": "markdown",
   "metadata": {},
   "source": [
    "## Experiment: \n",
    "\n",
    "1. Study the loss ratio in 2015\n",
    "2. Use 2003 and 2004 data to build a machine learning model\n",
    "3. Use this model to predict default in 2005\n"
   ]
  },
  {
   "cell_type": "code",
   "execution_count": 69,
   "metadata": {},
   "outputs": [],
   "source": [
    "nat = pd.read_csv(path_SBA + 'SBAnational_new.csv', sep = ';', low_memory=False)"
   ]
  },
  {
   "cell_type": "code",
   "execution_count": 70,
   "metadata": {},
   "outputs": [],
   "source": [
    "nat5 = nat[nat.ApprovalFY.isin([2005])].reset_index(drop = True)"
   ]
  },
  {
   "cell_type": "markdown",
   "metadata": {},
   "source": [
    "## Assign grade based on SBA ratio\n",
    "\n",
    "Let's assign grades for SBA based on the SBA ratio, \n",
    "i.e. grade 5 for below 0.2, grade 4 for ratio between 0.2 to 0.4"
   ]
  },
  {
   "cell_type": "code",
   "execution_count": 71,
   "metadata": {},
   "outputs": [],
   "source": [
    "sba_ratio_th = [0, 0.2, 0.4, 0.6, 0.8, 1]\n",
    "sba_grades = [5, 4, 3, 2, 1]\n",
    "\n",
    "nat5['SBA_grades'] = pd.cut(nat5.SBA_ratio, bins = sba_ratio_th, labels = sba_grades)"
   ]
  },
  {
   "cell_type": "code",
   "execution_count": 72,
   "metadata": {},
   "outputs": [
    {
     "data": {
      "text/plain": [
       "1    17294\n",
       "2    10931\n",
       "3    48706\n",
       "4       23\n",
       "5        3\n",
       "Name: SBA_grades, dtype: int64"
      ]
     },
     "execution_count": 72,
     "metadata": {},
     "output_type": "execute_result"
    }
   ],
   "source": [
    "nat5.SBA_grades.value_counts().sort_index(ascending = False)"
   ]
  },
  {
   "cell_type": "code",
   "execution_count": 73,
   "metadata": {},
   "outputs": [],
   "source": [
    "def default_cat_table(data, cat):\n",
    "    default_cat = data.groupby([cat, 'default']).count().max(1).unstack()\n",
    "    default_cat['ALL'] = data[cat].value_counts()\n",
    "    default_cat['default_rate'] = (default_cat[1] / default_cat['ALL'])\n",
    "    default_cat = default_cat.rename(columns = {1: 'Default', 0: 'Non-default'})\n",
    "    return default_cat\n"
   ]
  },
  {
   "cell_type": "code",
   "execution_count": 74,
   "metadata": {},
   "outputs": [
    {
     "data": {
      "text/html": [
       "<div>\n",
       "<style>\n",
       "    .dataframe thead tr:only-child th {\n",
       "        text-align: right;\n",
       "    }\n",
       "\n",
       "    .dataframe thead th {\n",
       "        text-align: left;\n",
       "    }\n",
       "\n",
       "    .dataframe tbody tr th {\n",
       "        vertical-align: top;\n",
       "    }\n",
       "</style>\n",
       "<table border=\"1\" class=\"dataframe\">\n",
       "  <thead>\n",
       "    <tr style=\"text-align: right;\">\n",
       "      <th>default</th>\n",
       "      <th>Non-default</th>\n",
       "      <th>Default</th>\n",
       "      <th>ALL</th>\n",
       "      <th>default_rate</th>\n",
       "    </tr>\n",
       "    <tr>\n",
       "      <th>SBA_grades</th>\n",
       "      <th></th>\n",
       "      <th></th>\n",
       "      <th></th>\n",
       "      <th></th>\n",
       "    </tr>\n",
       "  </thead>\n",
       "  <tbody>\n",
       "    <tr>\n",
       "      <th>1</th>\n",
       "      <td>13285.0</td>\n",
       "      <td>4009.0</td>\n",
       "      <td>17294</td>\n",
       "      <td>0.231815</td>\n",
       "    </tr>\n",
       "    <tr>\n",
       "      <th>2</th>\n",
       "      <td>8999.0</td>\n",
       "      <td>1932.0</td>\n",
       "      <td>10931</td>\n",
       "      <td>0.176745</td>\n",
       "    </tr>\n",
       "    <tr>\n",
       "      <th>3</th>\n",
       "      <td>35169.0</td>\n",
       "      <td>13537.0</td>\n",
       "      <td>48706</td>\n",
       "      <td>0.277933</td>\n",
       "    </tr>\n",
       "    <tr>\n",
       "      <th>4</th>\n",
       "      <td>22.0</td>\n",
       "      <td>1.0</td>\n",
       "      <td>23</td>\n",
       "      <td>0.043478</td>\n",
       "    </tr>\n",
       "    <tr>\n",
       "      <th>5</th>\n",
       "      <td>3.0</td>\n",
       "      <td>NaN</td>\n",
       "      <td>3</td>\n",
       "      <td>NaN</td>\n",
       "    </tr>\n",
       "  </tbody>\n",
       "</table>\n",
       "</div>"
      ],
      "text/plain": [
       "default     Non-default  Default    ALL  default_rate\n",
       "SBA_grades                                           \n",
       "1               13285.0   4009.0  17294      0.231815\n",
       "2                8999.0   1932.0  10931      0.176745\n",
       "3               35169.0  13537.0  48706      0.277933\n",
       "4                  22.0      1.0     23      0.043478\n",
       "5                   3.0      NaN      3           NaN"
      ]
     },
     "execution_count": 74,
     "metadata": {},
     "output_type": "execute_result"
    }
   ],
   "source": [
    "default_cat_table(nat5, 'SBA_grades').sort_index(ascending = False)"
   ]
  },
  {
   "cell_type": "code",
   "execution_count": 76,
   "metadata": {},
   "outputs": [],
   "source": [
    "def sba_claim(chgoffamount, sba_app):\n",
    "    if chgoffamount == 0:\n",
    "        return 0\n",
    "    else:\n",
    "        if sba_app <= chgoffamount:\n",
    "            claim = sba_app\n",
    "        else:\n",
    "            claim = chgoffamount\n",
    "        return claim\n",
    "    \n",
    "claim = nat5.apply(lambda x: sba_claim(x['ChgOffPrinGr'], x['SBA_Appv']), axis = 1)\n",
    "nat5['SBA_claim'] = claim"
   ]
  },
  {
   "cell_type": "code",
   "execution_count": 87,
   "metadata": {},
   "outputs": [
    {
     "name": "stdout",
     "output_type": "stream",
     "text": [
      "Overall lost ratio =  0.113\n",
      "Lost ratio for each grade: \n"
     ]
    },
    {
     "data": {
      "text/html": [
       "<div>\n",
       "<style>\n",
       "    .dataframe thead tr:only-child th {\n",
       "        text-align: right;\n",
       "    }\n",
       "\n",
       "    .dataframe thead th {\n",
       "        text-align: left;\n",
       "    }\n",
       "\n",
       "    .dataframe tbody tr th {\n",
       "        vertical-align: top;\n",
       "    }\n",
       "</style>\n",
       "<table border=\"1\" class=\"dataframe\">\n",
       "  <thead>\n",
       "    <tr style=\"text-align: right;\">\n",
       "      <th></th>\n",
       "      <th>GrAppv</th>\n",
       "      <th>SBA_Appv</th>\n",
       "      <th>SBA_claim</th>\n",
       "      <th>SBA_loss_ratio</th>\n",
       "    </tr>\n",
       "    <tr>\n",
       "      <th>SBA_grades</th>\n",
       "      <th></th>\n",
       "      <th></th>\n",
       "      <th></th>\n",
       "      <th></th>\n",
       "    </tr>\n",
       "  </thead>\n",
       "  <tbody>\n",
       "    <tr>\n",
       "      <th>1</th>\n",
       "      <td>3.182030e+09</td>\n",
       "      <td>3.051684e+09</td>\n",
       "      <td>120698864.0</td>\n",
       "      <td>0.039552</td>\n",
       "    </tr>\n",
       "    <tr>\n",
       "      <th>2</th>\n",
       "      <td>5.645468e+09</td>\n",
       "      <td>4.221814e+09</td>\n",
       "      <td>533314200.0</td>\n",
       "      <td>0.126323</td>\n",
       "    </tr>\n",
       "    <tr>\n",
       "      <th>3</th>\n",
       "      <td>2.759550e+09</td>\n",
       "      <td>1.383032e+09</td>\n",
       "      <td>324853975.0</td>\n",
       "      <td>0.234885</td>\n",
       "    </tr>\n",
       "    <tr>\n",
       "      <th>4</th>\n",
       "      <td>1.586210e+07</td>\n",
       "      <td>4.916853e+06</td>\n",
       "      <td>284994.0</td>\n",
       "      <td>0.057963</td>\n",
       "    </tr>\n",
       "    <tr>\n",
       "      <th>5</th>\n",
       "      <td>1.907000e+06</td>\n",
       "      <td>2.552700e+05</td>\n",
       "      <td>0.0</td>\n",
       "      <td>0.000000</td>\n",
       "    </tr>\n",
       "  </tbody>\n",
       "</table>\n",
       "</div>"
      ],
      "text/plain": [
       "                  GrAppv      SBA_Appv    SBA_claim  SBA_loss_ratio\n",
       "SBA_grades                                                         \n",
       "1           3.182030e+09  3.051684e+09  120698864.0        0.039552\n",
       "2           5.645468e+09  4.221814e+09  533314200.0        0.126323\n",
       "3           2.759550e+09  1.383032e+09  324853975.0        0.234885\n",
       "4           1.586210e+07  4.916853e+06     284994.0        0.057963\n",
       "5           1.907000e+06  2.552700e+05          0.0        0.000000"
      ]
     },
     "execution_count": 87,
     "metadata": {},
     "output_type": "execute_result"
    }
   ],
   "source": [
    "print 'Overall lost ratio = ', round(nat5.SBA_claim.sum() / nat5.SBA_Appv.sum(), 3)\n",
    "\n",
    "print 'Lost ratio for each grade: '\n",
    "\n",
    "SBA_grade_df = pd.DataFrame(nat5.groupby('SBA_grades').GrAppv.sum())\n",
    "SBA_grade_df['SBA_Appv'] = nat5.groupby('SBA_grades').SBA_Appv.sum()\n",
    "SBA_grade_df['SBA_claim'] = nat5.groupby('SBA_grades').SBA_claim.sum()\n",
    "SBA_grade_df['SBA_loss_ratio'] = SBA_grade_df.SBA_claim / SBA_grade_df.SBA_Appv\n",
    "SBA_grade_df.sort_index(ascending = False)"
   ]
  },
  {
   "cell_type": "markdown",
   "metadata": {},
   "source": []
  }
 ],
 "metadata": {
  "kernelspec": {
   "display_name": "Python 2",
   "language": "python",
   "name": "python2"
  },
  "language_info": {
   "codemirror_mode": {
    "name": "ipython",
    "version": 2
   },
   "file_extension": ".py",
   "mimetype": "text/x-python",
   "name": "python",
   "nbconvert_exporter": "python",
   "pygments_lexer": "ipython2",
   "version": "2.7.14"
  }
 },
 "nbformat": 4,
 "nbformat_minor": 2
}
