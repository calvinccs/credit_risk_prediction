{
 "cells": [
  {
   "cell_type": "code",
   "execution_count": 1,
   "metadata": {},
   "outputs": [
    {
     "data": {
      "text/html": [
       "<style> .container {width:96% !important;}</style>"
      ],
      "text/plain": [
       "<IPython.core.display.HTML object>"
      ]
     },
     "metadata": {},
     "output_type": "display_data"
    }
   ],
   "source": [
    "from IPython.core.display import display, HTML\n",
    "display(HTML(\"\"\"<style> .container {width:96% !important;}</style>\"\"\"))\n",
    "\n",
    "from IPython.display import IFrame"
   ]
  },
  {
   "cell_type": "code",
   "execution_count": 2,
   "metadata": {},
   "outputs": [],
   "source": [
    "import pandas as pd\n",
    "import numpy as np\n",
    "from __future__ import division"
   ]
  },
  {
   "cell_type": "code",
   "execution_count": 3,
   "metadata": {},
   "outputs": [],
   "source": [
    "import xgboost as xgb"
   ]
  },
  {
   "cell_type": "code",
   "execution_count": 4,
   "metadata": {},
   "outputs": [],
   "source": [
    "import sys\n",
    "sys.path.insert(0,'../')\n",
    "from utils.paths import *\n",
    "# mod = reload(sys.modules['utils.paths'])\n",
    "# vars().update(mod.__dict__) "
   ]
  },
  {
   "cell_type": "code",
   "execution_count": 5,
   "metadata": {},
   "outputs": [],
   "source": [
    "import preprocessing as pp\n",
    "reload(pp);\n",
    "import graphs as gg\n",
    "reload(gg);"
   ]
  },
  {
   "cell_type": "code",
   "execution_count": 16,
   "metadata": {},
   "outputs": [
    {
     "name": "stdout",
     "output_type": "stream",
     "text": [
      "Populating the interactive namespace from numpy and matplotlib\n"
     ]
    },
    {
     "name": "stderr",
     "output_type": "stream",
     "text": [
      "/usr/local/lib/python2.7/site-packages/IPython/core/magics/pylab.py:161: UserWarning: pylab import has clobbered these variables: ['e']\n",
      "`%matplotlib` prevents importing * from pylab and numpy\n",
      "  \"\\n`%matplotlib` prevents importing * from pylab and numpy\"\n"
     ]
    }
   ],
   "source": [
    "%pylab inline"
   ]
  },
  {
   "cell_type": "markdown",
   "metadata": {},
   "source": [
    "# Experiment on model life time"
   ]
  },
  {
   "cell_type": "code",
   "execution_count": 6,
   "metadata": {},
   "outputs": [],
   "source": [
    "nat = pd.read_csv(path_SBA + 'SBAnational_new.csv', sep = ';', low_memory=False)"
   ]
  },
  {
   "cell_type": "code",
   "execution_count": 15,
   "metadata": {},
   "outputs": [
    {
     "name": "stdout",
     "output_type": "stream",
     "text": [
      "(897137, 46)\n",
      "(897137, 42)\n"
     ]
    }
   ],
   "source": [
    "print nat.shape\n",
    "# Extra features\n",
    "nat['Expanding'] = nat.CreateJob.apply(pp.expanding)\n",
    "nat['Retaining'] = nat.CreateJob.apply(pp.retaining)\n",
    "nat['Expanding_ratio'] = nat.apply(lambda x: pp.expanding_ratio(x['CreateJob'], x['NoEmp']), axis= 1)\n",
    "nat['Retaining_ratio'] = nat.apply(lambda x: pp.retaining_ratio(x['RetainedJob'], x['NoEmp']), axis= 1)\n",
    "\n",
    "use_col = ['LoanNr_ChkDgt', 'Name', 'City', 'State', 'Bank', 'BankState', \n",
    "           'NAICS', 'ApprovalDate', 'ApprovalFY', 'Term', 'NoEmp', 'NewExist', \n",
    "           'CreateJob', 'RetainedJob', 'FranchiseCode', 'UrbanRural', 'RevLineCr', \n",
    "           'LowDoc', 'ChgOffDate', 'DisbursementDate', 'DisbursementGross', \n",
    "           'BalanceGross', 'ChgOffPrinGr', 'GrAppv', 'SBA_Appv', \n",
    "           'default', 'Zip5d', 'Zip3d', 'SBA_ratio', 'RealEstate', \n",
    "           'NAICS_default_rate', 'NAICS_group', 'suffix', 'Loan_age', 'Previous_loan', 'default_times',\n",
    "           'fips', 'BusinessType',\n",
    "           'Expanding', 'Retaining', 'Expanding_ratio', 'Retaining_ratio'\n",
    "          ]\n",
    "\n",
    "nat = nat[use_col]\n",
    "print nat.shape\n"
   ]
  },
  {
   "cell_type": "code",
   "execution_count": 43,
   "metadata": {},
   "outputs": [],
   "source": [
    "from sklearn import model_selection\n",
    "from sklearn.metrics import roc_curve, roc_auc_score\n",
    "\n",
    "def tuning_grades(num_grades, prob):\n",
    "    Percentile = list(np.linspace(0, 100, num_grades+1))\n",
    "    thresholds = [np.percentile(prob, i) for i in Percentile]\n",
    "    thresholds[0] = 0\n",
    "    thresholds[-1] = 1\n",
    "    thresholds = [round(i, 3) for i in thresholds]\n",
    "    return thresholds\n",
    "\n",
    "class ml_model(object):\n",
    "    def __init__(self, portfolio_period, operation_period1, operation_period2):\n",
    "        portfolio = nat[nat.ApprovalFY.isin(portfolio_period)].reset_index(drop = True)\n",
    "        operation1 = nat[nat.ApprovalFY.isin(operation_period1)].reset_index(drop = True)\n",
    "        operation2 = nat[nat.ApprovalFY.isin(operation_period2)].reset_index(drop = True)\n",
    "        \n",
    "        self.model_performance = {'portfolio_period' : portfolio_period,\n",
    "                                  'operation_period1' : operation_period1,\n",
    "                                  'operation_period2' : operation_period2\n",
    "                                 }\n",
    "        self.model_output = {'portfolio_period' : portfolio_period,\n",
    "                             'operation_period1' : operation_period1,\n",
    "                             'operation_period2' : operation_period2,\n",
    "                            }\n",
    "        \n",
    "        Train, Test = model_selection.train_test_split(portfolio, \n",
    "                                                       test_size = 0.25, \n",
    "                                                       random_state = 1868,\n",
    "                                                       stratify = portfolio.default \n",
    "                                                       )\n",
    "        # Preprocessing train set\n",
    "        features = Train\n",
    "        target = Train.default\n",
    "        drop = ['LoanNr_ChkDgt', 'Name', 'ApprovalDate', 'ApprovalFY', 'ChgOffDate', 'DisbursementDate',\n",
    "                'DisbursementGross', 'BalanceGross', 'ChgOffPrinGr', 'GrAppv', 'SBA_Appv', 'SBA_ratio',\n",
    "                'default', 'FranchiseCode', 'Term', 'NAICS']\n",
    "        categorical = ['City', 'State', 'Zip5d', 'Zip3d', 'Bank', 'BankState', 'RevLineCr', \n",
    "                       'LowDoc', 'NAICS_group', 'suffix', 'fips', 'BusinessType',\n",
    "                       'Expanding_ratio', 'Retaining_ratio'\n",
    "                      ]\n",
    "        dict_categorical, features = pp.extract_train_features(features,\n",
    "                                                            drop,\n",
    "                                                            categorical)\n",
    "        \n",
    "        X_train, X_test, y_train, y_test = model_selection.train_test_split(features, \n",
    "                                                                    target, \n",
    "                                                                    test_size = 0.25, \n",
    "                                                                    random_state=3776,\n",
    "                                                                    stratify=target \n",
    "                                                                   )\n",
    "        dtrain = xgb.DMatrix(X_train.values, label=y_train.values)\n",
    "        dtest = xgb.DMatrix(X_test.values, y_test.values)\n",
    "        num_rounds = 1100\n",
    "        # num_rounds = 2000\n",
    "        params = {'silent':1, \n",
    "                  'eta':0.01, \n",
    "                  'max_depth':11, \n",
    "                  'subsample': 0.6, \n",
    "                  'colsample_bytree': 0.4,\n",
    "                  'min_child_weight':1, \n",
    "                  'objective':'binary:logistic', \n",
    "                  'eval_metric':'auc', \n",
    "                  'seed':2017, \n",
    "                  'gamma':0.1,\n",
    "                  'nthread':-1}\n",
    "        watchlist = [(dtrain, 'train'),(dtest,'validation')]\n",
    "        bst=xgb.train(params, dtrain, num_rounds, watchlist, early_stopping_rounds = 50, verbose_eval = False);\n",
    "        num_rounds = bst.best_iteration\n",
    "#         print bst.best_iteration, bst.best_score\n",
    "        self.model_performance['best_iteration'] = bst.best_iteration\n",
    "        self.model_performance['best_score'] = bst.best_score\n",
    "        \n",
    "        # Use all the train data to train the model\n",
    "        X_train_matrix = features.values\n",
    "        #SKLEARN\n",
    "        clf_xgb = xgb.XGBClassifier(silent = params['silent'],\n",
    "                                    learning_rate = params['eta'],  \n",
    "                                    max_depth = params['max_depth'], \n",
    "                                    subsample = params['subsample'], \n",
    "                                    colsample_bytree = params['colsample_bytree'],\n",
    "                                    min_child_weight = params['min_child_weight'], \n",
    "                                    objective = params['objective'], \n",
    "                                    n_estimators = num_rounds,\n",
    "                                    seed = params['seed'],\n",
    "                                    nthread = params['nthread'],\n",
    "                                    gamma = params['gamma']\n",
    "                                                    )\n",
    "        clf_xgb.fit(X_train_matrix, \n",
    "                    target, \n",
    "                    eval_metric ='auc')\n",
    "        # Validate model with test set\n",
    "        # Preprocessing test set\n",
    "        test_X = Test.copy()\n",
    "        # Preprocessing\n",
    "        test_bas = pp.extract_test_features(test_X,\n",
    "                                 drop,\n",
    "                                 categorical,\n",
    "                                 self.dict_categorical)\n",
    "        # Prediction\n",
    "        for col in features.columns:\n",
    "            if col not in test_bas.columns:\n",
    "                print 'MISSING COLUMN: ',col\n",
    "        test_bas= test_bas[features.columns]\n",
    "        X_test_matrix = test_bas.values\n",
    "#         print X_train_matrix.shape, X_test_matrix.shape\n",
    "        y_test_pred_xgb = clf_xgb.predict_proba(X_test_matrix)\n",
    "        result_table_test = test_X[['LoanNr_ChkDgt', 'Name', 'ApprovalFY', 'State', 'default', 'ChgOffPrinGr', 'GrAppv', 'SBA_Appv', 'SBA_ratio']]\n",
    "        result_table_test.loc[:, 'prob'] = y_test_pred_xgb[:,1]\n",
    "        fpr, tpr, _ = roc_curve(result_table_test.default, result_table_test.prob)\n",
    "        auc_plot = roc_auc_score(result_table_test.default, result_table_test.prob)   \n",
    "        self.model_output['test_fpr'] = fpr\n",
    "        self.model_output['test_tpr'] = tpr\n",
    "        self.model_performance['test_auc_plot'] = auc_plot\n",
    "        \n",
    "        # Assign grades using test set\n",
    "        prob_th = tuning_grades(5, result_table_test.prob)\n",
    "        grades = [str(g) for g in range(1,6)]\n",
    "        result_table_test.loc[:, 'Grade'] = pd.cut(result_table_test.prob, bins=prob_th, labels=grades)\n",
    "        result_table_test.loc[:, 'Grade'] = result_table_test['Grade'].astype('int')\n",
    "        self.model_output['result_table_test'] = result_table_test\n",
    "        \n",
    "        # Preprocessing operation1 set\n",
    "        proj_X = operation1.copy()        \n",
    "        proj_bas = pp.extract_test_features(proj_X,\n",
    "                                    drop,\n",
    "                                    categorical,\n",
    "                                    dict_categorical)\n",
    "        \n",
    "        for col in features.columns:\n",
    "            if col not in proj_bas.columns:\n",
    "                print 'MISSING COLUMN: ',col\n",
    "        \n",
    "        proj_bas= proj_bas[features.columns]\n",
    "        X_proj_matrix = proj_bas.values\n",
    "#         print X_train_matrix.shape, X_test_matrix.shape, X_proj_matrix.shape\n",
    "\n",
    "        y_proj_pred_xgb = clf_xgb.predict_proba(X_proj_matrix)\n",
    "        temp = pd.DataFrame(y_proj_pred_xgb)\n",
    "        \n",
    "        result_table_proj = proj_X[['LoanNr_ChkDgt', 'Name', 'ApprovalFY', 'State', 'default', 'ChgOffPrinGr', 'GrAppv', 'SBA_Appv', 'SBA_ratio']]\n",
    "        result_table_proj.loc[:, 'prob'] = y_proj_pred_xgb[:,1]\n",
    "        \n",
    "        fpr, tpr, _ = roc_curve(result_table_proj.default, result_table_proj.prob)\n",
    "        auc_plot = roc_auc_score(result_table_proj.default, result_table_proj.prob)   \n",
    "        self.model_output['oper1_fpr'] = fpr\n",
    "        self.model_output['oper1_tpr'] = tpr\n",
    "        self.model_performance['oper1_auc_plot'] = auc_plot\n",
    "        \n",
    "        result_table_proj.loc[:, 'Grade'] = pd.cut(result_table_proj.prob, bins=prob_th, labels=grades)\n",
    "        result_table_proj.loc[:, 'Grade'] = result_table_proj['Grade'].astype('int')\n",
    "        self.model_output['result_table_oper1'] = result_table_proj\n",
    "        \n",
    "        # Preprocessing operation2 set\n",
    "        proj_X = operation2.copy()        \n",
    "        proj_bas = pp.extract_test_features(proj_X,\n",
    "                                    drop,\n",
    "                                    categorical,\n",
    "                                    dict_categorical)\n",
    "        \n",
    "        for col in features.columns:\n",
    "            if col not in proj_bas.columns:\n",
    "                print 'MISSING COLUMN: ',col\n",
    "        \n",
    "        proj_bas= proj_bas[features.columns]\n",
    "        X_proj_matrix = proj_bas.values\n",
    "#         print X_train_matrix.shape, X_test_matrix.shape, X_proj_matrix.shape\n",
    "\n",
    "        y_proj_pred_xgb = clf_xgb.predict_proba(X_proj_matrix)\n",
    "        temp = pd.DataFrame(y_proj_pred_xgb)\n",
    "        \n",
    "        result_table_proj = proj_X[['LoanNr_ChkDgt', 'Name', 'ApprovalFY', 'State', 'default', 'ChgOffPrinGr', 'GrAppv', 'SBA_Appv', 'SBA_ratio']]\n",
    "        result_table_proj.loc[:, 'prob'] = y_proj_pred_xgb[:,1]\n",
    "        \n",
    "        fpr, tpr, _ = roc_curve(result_table_proj.default, result_table_proj.prob)\n",
    "        auc_plot = roc_auc_score(result_table_proj.default, result_table_proj.prob)   \n",
    "        self.model_output['oper2_fpr'] = fpr\n",
    "        self.model_output['oper2_tpr'] = tpr\n",
    "        self.model_performance['oper2_auc_plot'] = auc_plot\n",
    "        \n",
    "        result_table_proj.loc[:, 'Grade'] = pd.cut(result_table_proj.prob, bins=prob_th, labels=grades)\n",
    "        result_table_proj.loc[:, 'Grade'] = result_table_proj['Grade'].astype('int')\n",
    "        self.model_output['result_table_oper2'] = result_table_proj\n",
    "        \n",
    "        "
   ]
  },
  {
   "cell_type": "code",
   "execution_count": 44,
   "metadata": {},
   "outputs": [],
   "source": [
    "experiments = [([2003, 2004], [2005], [2006]),\n",
    "               ([2004, 2005], [2006], [2007]),\n",
    "               ([2005, 2006], [2007], [2008]),\n",
    "               ([2006, 2007], [2008], [2009]),\n",
    "               ([2007, 2008], [2009], [2010]),\n",
    "               ([2008, 2009], [2010], [2011]),\n",
    "               ([2009, 2010], [2011], [2012]),\n",
    "               ([2010, 2011], [2012], [2013])\n",
    "              ]"
   ]
  },
  {
   "cell_type": "code",
   "execution_count": 45,
   "metadata": {},
   "outputs": [
    {
     "name": "stdout",
     "output_type": "stream",
     "text": [
      "[2003, 2004] [2005] [2006]\n",
      "-----> Extract train features <------\n",
      "dropping unwanted columns\n",
      "transforming categorical variables\n",
      "done\n"
     ]
    },
    {
     "ename": "AttributeError",
     "evalue": "'ml_model' object has no attribute 'dict_categorical'",
     "output_type": "error",
     "traceback": [
      "\u001b[0;31m---------------------------------------------------------------------------\u001b[0m",
      "\u001b[0;31mAttributeError\u001b[0m                            Traceback (most recent call last)",
      "\u001b[0;32m<ipython-input-45-e69234ebcb8e>\u001b[0m in \u001b[0;36m<module>\u001b[0;34m()\u001b[0m\n\u001b[1;32m      5\u001b[0m     \u001b[0mo_period2\u001b[0m \u001b[0;34m=\u001b[0m \u001b[0me\u001b[0m\u001b[0;34m[\u001b[0m\u001b[0;36m2\u001b[0m\u001b[0;34m]\u001b[0m\u001b[0;34m\u001b[0m\u001b[0m\n\u001b[1;32m      6\u001b[0m     \u001b[0;32mprint\u001b[0m \u001b[0mp_period\u001b[0m\u001b[0;34m,\u001b[0m \u001b[0mo_period1\u001b[0m\u001b[0;34m,\u001b[0m \u001b[0mo_period2\u001b[0m\u001b[0;34m\u001b[0m\u001b[0m\n\u001b[0;32m----> 7\u001b[0;31m     \u001b[0mrun\u001b[0m \u001b[0;34m=\u001b[0m \u001b[0mml_model\u001b[0m\u001b[0;34m(\u001b[0m\u001b[0mp_period\u001b[0m\u001b[0;34m,\u001b[0m \u001b[0mo_period1\u001b[0m\u001b[0;34m,\u001b[0m \u001b[0mo_period2\u001b[0m\u001b[0;34m)\u001b[0m\u001b[0;34m\u001b[0m\u001b[0m\n\u001b[0m\u001b[1;32m      8\u001b[0m     \u001b[0;32mprint\u001b[0m \u001b[0mrun\u001b[0m\u001b[0;34m.\u001b[0m\u001b[0mmodel_performance\u001b[0m\u001b[0;34m\u001b[0m\u001b[0m\n\u001b[1;32m      9\u001b[0m     \u001b[0mruns\u001b[0m\u001b[0;34m.\u001b[0m\u001b[0mappend\u001b[0m\u001b[0;34m(\u001b[0m\u001b[0mrun\u001b[0m\u001b[0;34m)\u001b[0m\u001b[0;34m\u001b[0m\u001b[0m\n",
      "\u001b[0;32m<ipython-input-43-3eee2c5d7cdd>\u001b[0m in \u001b[0;36m__init__\u001b[0;34m(self, portfolio_period, operation_period1, operation_period2)\u001b[0m\n\u001b[1;32m     97\u001b[0m                                  \u001b[0mdrop\u001b[0m\u001b[0;34m,\u001b[0m\u001b[0;34m\u001b[0m\u001b[0m\n\u001b[1;32m     98\u001b[0m                                  \u001b[0mcategorical\u001b[0m\u001b[0;34m,\u001b[0m\u001b[0;34m\u001b[0m\u001b[0m\n\u001b[0;32m---> 99\u001b[0;31m                                  self.dict_categorical)\n\u001b[0m\u001b[1;32m    100\u001b[0m         \u001b[0;31m# Prediction\u001b[0m\u001b[0;34m\u001b[0m\u001b[0;34m\u001b[0m\u001b[0m\n\u001b[1;32m    101\u001b[0m         \u001b[0;32mfor\u001b[0m \u001b[0mcol\u001b[0m \u001b[0;32min\u001b[0m \u001b[0mfeatures\u001b[0m\u001b[0;34m.\u001b[0m\u001b[0mcolumns\u001b[0m\u001b[0;34m:\u001b[0m\u001b[0;34m\u001b[0m\u001b[0m\n",
      "\u001b[0;31mAttributeError\u001b[0m: 'ml_model' object has no attribute 'dict_categorical'"
     ]
    }
   ],
   "source": [
    "runs = []\n",
    "for e in experiments[:1]:\n",
    "    p_period = e[0]\n",
    "    o_period1 = e[1]\n",
    "    o_period2 = e[2]\n",
    "    print p_period, o_period1, o_period2\n",
    "    run = ml_model(p_period, o_period1, o_period2)\n",
    "    print run.model_performance\n",
    "    runs.append(run)\n",
    "    "
   ]
  },
  {
   "cell_type": "code",
   "execution_count": null,
   "metadata": {},
   "outputs": [],
   "source": []
  }
 ],
 "metadata": {
  "kernelspec": {
   "display_name": "Python 2",
   "language": "python",
   "name": "python2"
  },
  "language_info": {
   "codemirror_mode": {
    "name": "ipython",
    "version": 2
   },
   "file_extension": ".py",
   "mimetype": "text/x-python",
   "name": "python",
   "nbconvert_exporter": "python",
   "pygments_lexer": "ipython2",
   "version": "2.7.14"
  }
 },
 "nbformat": 4,
 "nbformat_minor": 2
}
