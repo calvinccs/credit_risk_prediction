{
 "cells": [
  {
   "cell_type": "markdown",
   "metadata": {},
   "source": [
    "# SBA dataset\n",
    "\n",
    "Build portfolio using 2~3 years data, e.g. 2003 to 2004. \n",
    "Use the model to predict default in 2005.\n",
    "\n",
    "\n"
   ]
  },
  {
   "cell_type": "code",
   "execution_count": 1,
   "metadata": {},
   "outputs": [
    {
     "data": {
      "text/html": [
       "<style> .container {width:96% !important;}</style>"
      ],
      "text/plain": [
       "<IPython.core.display.HTML object>"
      ]
     },
     "metadata": {},
     "output_type": "display_data"
    }
   ],
   "source": [
    "from IPython.core.display import display, HTML\n",
    "display(HTML(\"\"\"<style> .container {width:96% !important;}</style>\"\"\"))\n",
    "\n",
    "from IPython.display import IFrame"
   ]
  },
  {
   "cell_type": "code",
   "execution_count": 2,
   "metadata": {
    "collapsed": true
   },
   "outputs": [],
   "source": [
    "import pandas as pd\n",
    "import numpy as np\n",
    "# from plotly.offline import init_notebook_mode, iplot\n",
    "# import cufflinks as cf\n",
    "# init_notebook_mode()\n",
    "# cf.go_offline()\n",
    "from __future__ import division"
   ]
  },
  {
   "cell_type": "code",
   "execution_count": 3,
   "metadata": {
    "collapsed": true
   },
   "outputs": [],
   "source": [
    "path_data = '../large_data_files/ASA_loan_data/'\n",
    "def table(no):\n",
    "    # there are 13 additional table\n",
    "    return pd.read_csv('additional_data/t00%02d'%no + '-10.1080%2F10691898.2018.1434342.csv')\n"
   ]
  },
  {
   "cell_type": "code",
   "execution_count": 4,
   "metadata": {},
   "outputs": [
    {
     "data": {
      "text/plain": [
       "'../large_data_files/ASA_loan_data/'"
      ]
     },
     "execution_count": 4,
     "metadata": {},
     "output_type": "execute_result"
    }
   ],
   "source": [
    "path_data"
   ]
  },
  {
   "cell_type": "raw",
   "metadata": {
    "collapsed": true
   },
   "source": [
    "nat = pd.read_csv(path_data + 'SBAnational.csv', low_memory=False)\n",
    "nat = nat[nat['ApprovalFY'] != '1976A']\n",
    "nat['ApprovalFY'] = nat.ApprovalFY.astype(int)"
   ]
  },
  {
   "cell_type": "raw",
   "metadata": {},
   "source": [
    "nat.ApprovalFY.value_counts().sort_index()"
   ]
  },
  {
   "cell_type": "raw",
   "metadata": {},
   "source": [
    "nat03_04 = nat[(nat.ApprovalFY >= 2003) & (nat.ApprovalFY < 2005)]\n",
    "nat05_06 = nat[(nat.ApprovalFY >= 2005) & (nat.ApprovalFY < 2007)]\n",
    "nat07_08 = nat[(nat.ApprovalFY >= 2007) & (nat.ApprovalFY < 2009)]\n",
    "print nat03_04.shape, nat05_06.shape, nat07_08.shape"
   ]
  },
  {
   "cell_type": "raw",
   "metadata": {
    "collapsed": true
   },
   "source": [
    "nat03_04.to_csv('additional_data/nat03_04.csv', index=False)\n",
    "nat05_06.to_csv('additional_data/nat05_06.csv', index=False)\n",
    "nat07_08.to_csv('additional_data/nat07_08.csv', index=False)"
   ]
  },
  {
   "cell_type": "code",
   "execution_count": 5,
   "metadata": {},
   "outputs": [
    {
     "name": "stdout",
     "output_type": "stream",
     "text": [
      "total 158184\r\n",
      "drwxr-xr-x  18 ehda-calvin  staff   576B Aug 31 17:49 \u001b[34m.\u001b[m\u001b[m\r\n",
      "drwxr-xr-x  12 ehda-calvin  staff   384B Oct 12 12:19 \u001b[34m..\u001b[m\u001b[m\r\n",
      "-rw-r--r--   1 ehda-calvin  staff    24M Oct 11 16:19 nat03_04.csv\r\n",
      "-rw-r--r--   1 ehda-calvin  staff    30M Oct 11 16:19 nat05_06.csv\r\n",
      "-rw-r--r--   1 ehda-calvin  staff    22M Oct 11 16:19 nat07_08.csv\r\n",
      "-rw-r--r--@  1 ehda-calvin  staff   1.4K Aug 31 11:32 t0001-10.1080%2F10691898.2018.1434342.csv\r\n",
      "-rw-r--r--@  1 ehda-calvin  staff   772B Aug 31 11:32 t0002-10.1080%2F10691898.2018.1434342.csv\r\n",
      "-rw-r--r--@  1 ehda-calvin  staff   785B Aug 31 11:32 t0003-10.1080%2F10691898.2018.1434342.csv\r\n",
      "-rw-r--r--@  1 ehda-calvin  staff   913B Aug 31 11:32 t0004-10.1080%2F10691898.2018.1434342.csv\r\n",
      "-rw-r--r--@  1 ehda-calvin  staff   202B Aug 31 11:32 t0005-10.1080%2F10691898.2018.1434342.csv\r\n",
      "-rw-r--r--@  1 ehda-calvin  staff   203B Aug 31 11:33 t0006-10.1080%2F10691898.2018.1434342.csv\r\n",
      "-rw-r--r--@  1 ehda-calvin  staff   289B Aug 31 11:33 t0007-10.1080%2F10691898.2018.1434342.csv\r\n",
      "-rw-r--r--@  1 ehda-calvin  staff   408B Aug 31 11:33 t0008-10.1080%2F10691898.2018.1434342.csv\r\n",
      "-rw-r--r--@  1 ehda-calvin  staff   204B Aug 31 11:33 t0009-10.1080%2F10691898.2018.1434342.csv\r\n",
      "-rw-r--r--@  1 ehda-calvin  staff   294B Aug 31 11:33 t0010-10.1080%2F10691898.2018.1434342.csv\r\n",
      "-rw-r--r--@  1 ehda-calvin  staff   250B Aug 31 11:33 t0011-10.1080%2F10691898.2018.1434342.csv\r\n",
      "-rw-r--r--@  1 ehda-calvin  staff   316B Aug 31 11:33 t0012-10.1080%2F10691898.2018.1434342.csv\r\n",
      "-rw-r--r--@  1 ehda-calvin  staff   2.3K Aug 31 11:33 t0013-10.1080%2F10691898.2018.1434342.csv\r\n"
     ]
    }
   ],
   "source": [
    "!ls -all -h additional_data"
   ]
  },
  {
   "cell_type": "raw",
   "metadata": {
    "collapsed": true
   },
   "source": [
    "nat['ApprovalDate'] = pd.to_datetime(nat['ApprovalDate'], errors = 'coerce')\n",
    "nat['DisbursementDate'] = pd.to_datetime(nat['DisbursementDate'], errors = 'coerce')\n",
    "nat = nat[(nat['ApprovalDate'].dt.year >= 2000) & (nat['ApprovalDate'].dt.year < 2011 )] # Use data between 2000 to 2010"
   ]
  },
  {
   "cell_type": "code",
   "execution_count": null,
   "metadata": {
    "collapsed": true
   },
   "outputs": [],
   "source": []
  }
 ],
 "metadata": {
  "kernelspec": {
   "display_name": "Python 2",
   "language": "python",
   "name": "python2"
  },
  "language_info": {
   "codemirror_mode": {
    "name": "ipython",
    "version": 2
   },
   "file_extension": ".py",
   "mimetype": "text/x-python",
   "name": "python",
   "nbconvert_exporter": "python",
   "pygments_lexer": "ipython2",
   "version": "2.7.13"
  }
 },
 "nbformat": 4,
 "nbformat_minor": 2
}
