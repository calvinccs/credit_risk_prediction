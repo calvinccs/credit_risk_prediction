{
 "cells": [
  {
   "cell_type": "markdown",
   "metadata": {},
   "source": [
    "# SBA dataset\n",
    "\n",
    "Build portfolio using 2~3 years data, e.g. 2003 to 2004. \n",
    "Use the model to predict default in 2005.\n",
    "\n",
    "\n"
   ]
  },
  {
   "cell_type": "code",
   "execution_count": 1,
   "metadata": {},
   "outputs": [
    {
     "data": {
      "text/html": [
       "<style> .container {width:96% !important;}</style>"
      ],
      "text/plain": [
       "<IPython.core.display.HTML object>"
      ]
     },
     "metadata": {},
     "output_type": "display_data"
    }
   ],
   "source": [
    "from IPython.core.display import display, HTML\n",
    "display(HTML(\"\"\"<style> .container {width:96% !important;}</style>\"\"\"))\n",
    "\n",
    "from IPython.display import IFrame"
   ]
  },
  {
   "cell_type": "code",
   "execution_count": 2,
   "metadata": {
    "collapsed": true
   },
   "outputs": [],
   "source": [
    "import pandas as pd\n",
    "import numpy as np\n",
    "# from plotly.offline import init_notebook_mode, iplot\n",
    "# import cufflinks as cf\n",
    "# init_notebook_mode()\n",
    "# cf.go_offline()\n",
    "from __future__ import division"
   ]
  },
  {
   "cell_type": "code",
   "execution_count": 3,
   "metadata": {
    "collapsed": true
   },
   "outputs": [],
   "source": [
    "path_data = '../large_data_files/ASA_loan_data/'\n",
    "def table(no):\n",
    "    # there are 13 additional table\n",
    "    return pd.read_csv('additional_data/t00%02d'%no + '-10.1080%2F10691898.2018.1434342.csv')\n"
   ]
  },
  {
   "cell_type": "code",
   "execution_count": 4,
   "metadata": {
    "collapsed": true
   },
   "outputs": [],
   "source": [
    "def to_float(x):\n",
    "    x = x.replace('$', '')\n",
    "    x = x.replace(',', '')\n",
    "    x = float(x)\n",
    "    return x"
   ]
  },
  {
   "cell_type": "code",
   "execution_count": 5,
   "metadata": {},
   "outputs": [
    {
     "data": {
      "text/plain": [
       "'../large_data_files/ASA_loan_data/'"
      ]
     },
     "execution_count": 5,
     "metadata": {},
     "output_type": "execute_result"
    }
   ],
   "source": [
    "path_data"
   ]
  },
  {
   "cell_type": "code",
   "execution_count": 6,
   "metadata": {
    "collapsed": true
   },
   "outputs": [],
   "source": [
    "nat = pd.read_csv(path_data + 'SBAnational.csv', low_memory=False)\n",
    "nat = nat[nat['ApprovalFY'] != '1976A']\n",
    "nat['ApprovalFY'] = nat.ApprovalFY.astype(int)\n",
    "nat = nat[(nat.ApprovalFY >= 1990) & pd.notnull(nat.MIS_Status)]"
   ]
  },
  {
   "cell_type": "code",
   "execution_count": 7,
   "metadata": {},
   "outputs": [
    {
     "data": {
      "text/plain": [
       "(869288, 27)"
      ]
     },
     "execution_count": 7,
     "metadata": {},
     "output_type": "execute_result"
    }
   ],
   "source": [
    "nat.shape"
   ]
  },
  {
   "cell_type": "code",
   "execution_count": 9,
   "metadata": {
    "collapsed": true
   },
   "outputs": [],
   "source": [
    "nat['DisbursementGross'] = nat['DisbursementGross'].apply(to_float)\n",
    "nat['BalanceGross'] = nat['BalanceGross'].apply(to_float)\n",
    "nat['ChgOffPrinGr'] = nat['ChgOffPrinGr'].apply(to_float)\n",
    "nat['GrAppv'] = nat['GrAppv'].apply(to_float)\n",
    "nat['SBA_Appv'] = nat['SBA_Appv'].apply(to_float)"
   ]
  },
  {
   "cell_type": "code",
   "execution_count": 10,
   "metadata": {},
   "outputs": [
    {
     "data": {
      "text/html": [
       "<div>\n",
       "<style>\n",
       "    .dataframe thead tr:only-child th {\n",
       "        text-align: right;\n",
       "    }\n",
       "\n",
       "    .dataframe thead th {\n",
       "        text-align: left;\n",
       "    }\n",
       "\n",
       "    .dataframe tbody tr th {\n",
       "        vertical-align: top;\n",
       "    }\n",
       "</style>\n",
       "<table border=\"1\" class=\"dataframe\">\n",
       "  <thead>\n",
       "    <tr style=\"text-align: right;\">\n",
       "      <th></th>\n",
       "      <th>LoanNr_ChkDgt</th>\n",
       "      <th>Name</th>\n",
       "      <th>City</th>\n",
       "      <th>State</th>\n",
       "      <th>Zip</th>\n",
       "      <th>Bank</th>\n",
       "      <th>BankState</th>\n",
       "      <th>NAICS</th>\n",
       "      <th>ApprovalDate</th>\n",
       "      <th>ApprovalFY</th>\n",
       "      <th>...</th>\n",
       "      <th>RevLineCr</th>\n",
       "      <th>LowDoc</th>\n",
       "      <th>ChgOffDate</th>\n",
       "      <th>DisbursementDate</th>\n",
       "      <th>DisbursementGross</th>\n",
       "      <th>BalanceGross</th>\n",
       "      <th>MIS_Status</th>\n",
       "      <th>ChgOffPrinGr</th>\n",
       "      <th>GrAppv</th>\n",
       "      <th>SBA_Appv</th>\n",
       "    </tr>\n",
       "  </thead>\n",
       "  <tbody>\n",
       "    <tr>\n",
       "      <th>0</th>\n",
       "      <td>1000014003</td>\n",
       "      <td>ABC HOBBYCRAFT</td>\n",
       "      <td>EVANSVILLE</td>\n",
       "      <td>IN</td>\n",
       "      <td>47711</td>\n",
       "      <td>FIFTH THIRD BANK</td>\n",
       "      <td>OH</td>\n",
       "      <td>451120</td>\n",
       "      <td>28-Feb-97</td>\n",
       "      <td>1997</td>\n",
       "      <td>...</td>\n",
       "      <td>N</td>\n",
       "      <td>Y</td>\n",
       "      <td>NaN</td>\n",
       "      <td>28-Feb-99</td>\n",
       "      <td>60000.0</td>\n",
       "      <td>0.0</td>\n",
       "      <td>P I F</td>\n",
       "      <td>0.0</td>\n",
       "      <td>60000.0</td>\n",
       "      <td>48000.0</td>\n",
       "    </tr>\n",
       "    <tr>\n",
       "      <th>1</th>\n",
       "      <td>1000024006</td>\n",
       "      <td>LANDMARK BAR &amp; GRILLE (THE)</td>\n",
       "      <td>NEW PARIS</td>\n",
       "      <td>IN</td>\n",
       "      <td>46526</td>\n",
       "      <td>1ST SOURCE BANK</td>\n",
       "      <td>IN</td>\n",
       "      <td>722410</td>\n",
       "      <td>28-Feb-97</td>\n",
       "      <td>1997</td>\n",
       "      <td>...</td>\n",
       "      <td>N</td>\n",
       "      <td>Y</td>\n",
       "      <td>NaN</td>\n",
       "      <td>31-May-97</td>\n",
       "      <td>40000.0</td>\n",
       "      <td>0.0</td>\n",
       "      <td>P I F</td>\n",
       "      <td>0.0</td>\n",
       "      <td>40000.0</td>\n",
       "      <td>32000.0</td>\n",
       "    </tr>\n",
       "    <tr>\n",
       "      <th>2</th>\n",
       "      <td>1000034009</td>\n",
       "      <td>WHITLOCK DDS, TODD M.</td>\n",
       "      <td>BLOOMINGTON</td>\n",
       "      <td>IN</td>\n",
       "      <td>47401</td>\n",
       "      <td>GRANT COUNTY STATE BANK</td>\n",
       "      <td>IN</td>\n",
       "      <td>621210</td>\n",
       "      <td>28-Feb-97</td>\n",
       "      <td>1997</td>\n",
       "      <td>...</td>\n",
       "      <td>N</td>\n",
       "      <td>N</td>\n",
       "      <td>NaN</td>\n",
       "      <td>31-Dec-97</td>\n",
       "      <td>287000.0</td>\n",
       "      <td>0.0</td>\n",
       "      <td>P I F</td>\n",
       "      <td>0.0</td>\n",
       "      <td>287000.0</td>\n",
       "      <td>215250.0</td>\n",
       "    </tr>\n",
       "    <tr>\n",
       "      <th>3</th>\n",
       "      <td>1000044001</td>\n",
       "      <td>BIG BUCKS PAWN &amp; JEWELRY, LLC</td>\n",
       "      <td>BROKEN ARROW</td>\n",
       "      <td>OK</td>\n",
       "      <td>74012</td>\n",
       "      <td>1ST NATL BK &amp; TR CO OF BROKEN</td>\n",
       "      <td>OK</td>\n",
       "      <td>0</td>\n",
       "      <td>28-Feb-97</td>\n",
       "      <td>1997</td>\n",
       "      <td>...</td>\n",
       "      <td>N</td>\n",
       "      <td>Y</td>\n",
       "      <td>NaN</td>\n",
       "      <td>30-Jun-97</td>\n",
       "      <td>35000.0</td>\n",
       "      <td>0.0</td>\n",
       "      <td>P I F</td>\n",
       "      <td>0.0</td>\n",
       "      <td>35000.0</td>\n",
       "      <td>28000.0</td>\n",
       "    </tr>\n",
       "    <tr>\n",
       "      <th>4</th>\n",
       "      <td>1000054004</td>\n",
       "      <td>ANASTASIA CONFECTIONS, INC.</td>\n",
       "      <td>ORLANDO</td>\n",
       "      <td>FL</td>\n",
       "      <td>32801</td>\n",
       "      <td>FLORIDA BUS. DEVEL CORP</td>\n",
       "      <td>FL</td>\n",
       "      <td>0</td>\n",
       "      <td>28-Feb-97</td>\n",
       "      <td>1997</td>\n",
       "      <td>...</td>\n",
       "      <td>N</td>\n",
       "      <td>N</td>\n",
       "      <td>NaN</td>\n",
       "      <td>14-May-97</td>\n",
       "      <td>229000.0</td>\n",
       "      <td>0.0</td>\n",
       "      <td>P I F</td>\n",
       "      <td>0.0</td>\n",
       "      <td>229000.0</td>\n",
       "      <td>229000.0</td>\n",
       "    </tr>\n",
       "  </tbody>\n",
       "</table>\n",
       "<p>5 rows × 27 columns</p>\n",
       "</div>"
      ],
      "text/plain": [
       "   LoanNr_ChkDgt                           Name          City State    Zip  \\\n",
       "0     1000014003                 ABC HOBBYCRAFT    EVANSVILLE    IN  47711   \n",
       "1     1000024006    LANDMARK BAR & GRILLE (THE)     NEW PARIS    IN  46526   \n",
       "2     1000034009          WHITLOCK DDS, TODD M.   BLOOMINGTON    IN  47401   \n",
       "3     1000044001  BIG BUCKS PAWN & JEWELRY, LLC  BROKEN ARROW    OK  74012   \n",
       "4     1000054004    ANASTASIA CONFECTIONS, INC.       ORLANDO    FL  32801   \n",
       "\n",
       "                            Bank BankState   NAICS ApprovalDate  ApprovalFY  \\\n",
       "0               FIFTH THIRD BANK        OH  451120    28-Feb-97        1997   \n",
       "1                1ST SOURCE BANK        IN  722410    28-Feb-97        1997   \n",
       "2        GRANT COUNTY STATE BANK        IN  621210    28-Feb-97        1997   \n",
       "3  1ST NATL BK & TR CO OF BROKEN        OK       0    28-Feb-97        1997   \n",
       "4        FLORIDA BUS. DEVEL CORP        FL       0    28-Feb-97        1997   \n",
       "\n",
       "     ...     RevLineCr  LowDoc  ChgOffDate  DisbursementDate  \\\n",
       "0    ...             N       Y         NaN         28-Feb-99   \n",
       "1    ...             N       Y         NaN         31-May-97   \n",
       "2    ...             N       N         NaN         31-Dec-97   \n",
       "3    ...             N       Y         NaN         30-Jun-97   \n",
       "4    ...             N       N         NaN         14-May-97   \n",
       "\n",
       "   DisbursementGross  BalanceGross  MIS_Status ChgOffPrinGr    GrAppv  \\\n",
       "0            60000.0           0.0       P I F          0.0   60000.0   \n",
       "1            40000.0           0.0       P I F          0.0   40000.0   \n",
       "2           287000.0           0.0       P I F          0.0  287000.0   \n",
       "3            35000.0           0.0       P I F          0.0   35000.0   \n",
       "4           229000.0           0.0       P I F          0.0  229000.0   \n",
       "\n",
       "   SBA_Appv  \n",
       "0   48000.0  \n",
       "1   32000.0  \n",
       "2  215250.0  \n",
       "3   28000.0  \n",
       "4  229000.0  \n",
       "\n",
       "[5 rows x 27 columns]"
      ]
     },
     "execution_count": 10,
     "metadata": {},
     "output_type": "execute_result"
    }
   ],
   "source": [
    "nat.head()"
   ]
  },
  {
   "cell_type": "raw",
   "metadata": {},
   "source": [
    "nat.ApprovalFY.value_counts().sort_index()"
   ]
  },
  {
   "cell_type": "code",
   "execution_count": 11,
   "metadata": {},
   "outputs": [
    {
     "name": "stdout",
     "output_type": "stream",
     "text": [
      "(126195, 27) (152714, 27) (111107, 27)\n"
     ]
    }
   ],
   "source": [
    "nat03_04 = nat[(nat.ApprovalFY >= 2003) & (nat.ApprovalFY < 2005)]\n",
    "nat05_06 = nat[(nat.ApprovalFY >= 2005) & (nat.ApprovalFY < 2007)]\n",
    "nat07_08 = nat[(nat.ApprovalFY >= 2007) & (nat.ApprovalFY < 2009)]\n",
    "print nat03_04.shape, nat05_06.shape, nat07_08.shape"
   ]
  },
  {
   "cell_type": "code",
   "execution_count": 12,
   "metadata": {
    "collapsed": true
   },
   "outputs": [],
   "source": [
    "nat03_04.to_csv('additional_data/nat03_04.csv', index=False)\n",
    "nat05_06.to_csv('additional_data/nat05_06.csv', index=False)\n",
    "nat07_08.to_csv('additional_data/nat07_08.csv', index=False)"
   ]
  },
  {
   "cell_type": "code",
   "execution_count": 13,
   "metadata": {},
   "outputs": [
    {
     "name": "stdout",
     "output_type": "stream",
     "text": [
      "total 139752\r\n",
      "drwxr-xr-x  18 ehda-calvin  staff   576B Aug 31 17:49 \u001b[34m.\u001b[m\u001b[m\r\n",
      "drwxr-xr-x  15 ehda-calvin  staff   480B Oct 22 12:19 \u001b[34m..\u001b[m\u001b[m\r\n",
      "-rw-r--r--   1 ehda-calvin  staff    21M Oct 22 12:20 nat03_04.csv\r\n",
      "-rw-r--r--   1 ehda-calvin  staff    26M Oct 22 12:20 nat05_06.csv\r\n",
      "-rw-r--r--   1 ehda-calvin  staff    19M Oct 22 12:20 nat07_08.csv\r\n",
      "-rw-r--r--@  1 ehda-calvin  staff   1.4K Aug 31 11:32 t0001-10.1080%2F10691898.2018.1434342.csv\r\n",
      "-rw-r--r--@  1 ehda-calvin  staff   772B Aug 31 11:32 t0002-10.1080%2F10691898.2018.1434342.csv\r\n",
      "-rw-r--r--@  1 ehda-calvin  staff   785B Aug 31 11:32 t0003-10.1080%2F10691898.2018.1434342.csv\r\n",
      "-rw-r--r--@  1 ehda-calvin  staff   913B Aug 31 11:32 t0004-10.1080%2F10691898.2018.1434342.csv\r\n",
      "-rw-r--r--@  1 ehda-calvin  staff   202B Aug 31 11:32 t0005-10.1080%2F10691898.2018.1434342.csv\r\n",
      "-rw-r--r--@  1 ehda-calvin  staff   203B Aug 31 11:33 t0006-10.1080%2F10691898.2018.1434342.csv\r\n",
      "-rw-r--r--@  1 ehda-calvin  staff   289B Aug 31 11:33 t0007-10.1080%2F10691898.2018.1434342.csv\r\n",
      "-rw-r--r--@  1 ehda-calvin  staff   408B Aug 31 11:33 t0008-10.1080%2F10691898.2018.1434342.csv\r\n",
      "-rw-r--r--@  1 ehda-calvin  staff   204B Aug 31 11:33 t0009-10.1080%2F10691898.2018.1434342.csv\r\n",
      "-rw-r--r--@  1 ehda-calvin  staff   294B Aug 31 11:33 t0010-10.1080%2F10691898.2018.1434342.csv\r\n",
      "-rw-r--r--@  1 ehda-calvin  staff   250B Aug 31 11:33 t0011-10.1080%2F10691898.2018.1434342.csv\r\n",
      "-rw-r--r--@  1 ehda-calvin  staff   316B Aug 31 11:33 t0012-10.1080%2F10691898.2018.1434342.csv\r\n",
      "-rw-r--r--@  1 ehda-calvin  staff   2.3K Aug 31 11:33 t0013-10.1080%2F10691898.2018.1434342.csv\r\n"
     ]
    }
   ],
   "source": [
    "!ls -all -h additional_data"
   ]
  },
  {
   "cell_type": "raw",
   "metadata": {
    "collapsed": true
   },
   "source": [
    "nat['ApprovalDate'] = pd.to_datetime(nat['ApprovalDate'], errors = 'coerce')\n",
    "nat['DisbursementDate'] = pd.to_datetime(nat['DisbursementDate'], errors = 'coerce')\n",
    "nat = nat[(nat['ApprovalDate'].dt.year >= 2000) & (nat['ApprovalDate'].dt.year < 2011 )] # Use data between 2000 to 2010"
   ]
  },
  {
   "cell_type": "code",
   "execution_count": null,
   "metadata": {
    "collapsed": true
   },
   "outputs": [],
   "source": []
  }
 ],
 "metadata": {
  "kernelspec": {
   "display_name": "Python 2",
   "language": "python",
   "name": "python2"
  },
  "language_info": {
   "codemirror_mode": {
    "name": "ipython",
    "version": 2
   },
   "file_extension": ".py",
   "mimetype": "text/x-python",
   "name": "python",
   "nbconvert_exporter": "python",
   "pygments_lexer": "ipython2",
   "version": "2.7.13"
  }
 },
 "nbformat": 4,
 "nbformat_minor": 2
}
